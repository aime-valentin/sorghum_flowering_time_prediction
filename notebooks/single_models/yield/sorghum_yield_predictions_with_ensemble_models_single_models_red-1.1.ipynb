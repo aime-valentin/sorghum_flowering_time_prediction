{
 "cells": [
  {
   "cell_type": "markdown",
   "id": "6bafafa2",
   "metadata": {},
   "source": [
    "# Sorghum Yield Predictions with Ensemble Models"
   ]
  },
  {
   "cell_type": "code",
   "execution_count": null,
   "id": "56077f17",
   "metadata": {},
   "outputs": [],
   "source": [
    "#important libraries\n",
    "from sklearn.experimental import enable_hist_gradient_boosting\n",
    "from sklearn.ensemble import AdaBoostRegressor,BaggingRegressor,ExtraTreesRegressor,GradientBoostingRegressor,RandomForestRegressor,\\\n",
    "StackingRegressor,VotingRegressor,HistGradientBoostingRegressor\n",
    "from sklearn.metrics import r2_score, mean_squared_error,explained_variance_score\n",
    "from sklearn.model_selection import train_test_split\n",
    "from sklearn.decomposition import PCA\n",
    "from sklearn.model_selection import cross_val_score\n",
    "from sklearn.model_selection import KFold, RepeatedKFold\n",
    "from matplotlib import pyplot\n",
    "from scipy.stats import sem\n",
    "from numpy import mean\n",
    "from numpy import std\n",
    "\n",
    "import pandas as pd\n",
    "import numpy as np\n",
    "import seaborn as sns\n",
    "import matplotlib.pyplot as plt\n",
    "import matplotlib\n",
    "import plotly.express as px\n",
    "\n",
    "import itertools\n",
    "from itertools import permutations\n",
    "pd.set_option(\"display.max_rows\", None, \"display.max_columns\", None)\n",
    "sns.set()\n",
    "\n",
    "%matplotlib inline"
   ]
  },
  {
   "cell_type": "markdown",
   "id": "327c24ae",
   "metadata": {},
   "source": [
    "## Import Train and Test Data"
   ]
  },
  {
   "cell_type": "code",
   "execution_count": null,
   "id": "42cb4b57",
   "metadata": {},
   "outputs": [],
   "source": [
    "df = pd.read_csv('../../../data/data-1.3-red.csv',index_col = 0)\n",
    "df.head()"
   ]
  },
  {
   "cell_type": "markdown",
   "id": "449d0d22",
   "metadata": {},
   "source": [
    "### Calculate Principal Components"
   ]
  },
  {
   "cell_type": "code",
   "execution_count": null,
   "id": "06a6383e",
   "metadata": {},
   "outputs": [],
   "source": [
    "sub = df[df.columns[18:-8]] #reflectance data\n",
    "sub.head()"
   ]
  },
  {
   "cell_type": "code",
   "execution_count": null,
   "id": "5b134ada",
   "metadata": {},
   "outputs": [],
   "source": [
    "n_components =50\n",
    "pca = PCA(n_components)\n",
    "sub_trans = pca.fit_transform(sub.values)\n",
    "sub_df = pd.DataFrame(data = sub_trans\n",
    "         , columns = [\"PC\"+str(i) for i in list(range(1,n_components+1))])\n",
    "sub_df.head()"
   ]
  },
  {
   "cell_type": "code",
   "execution_count": null,
   "id": "51fcc14d",
   "metadata": {},
   "outputs": [],
   "source": [
    "total_var = pca.explained_variance_ratio_.sum() * 100\n",
    "exp_var_cumul = np.cumsum(pca.explained_variance_ratio_)\n",
    "\n",
    "plt.figure(figsize = (15,8))\n",
    "sns.set_context('paper')\n",
    "sns.barplot(x = list(range(1,n_components+1,1)), y = exp_var_cumul)"
   ]
  },
  {
   "cell_type": "code",
   "execution_count": null,
   "id": "857b73b6",
   "metadata": {},
   "outputs": [],
   "source": [
    "total_var #explained variance"
   ]
  },
  {
   "cell_type": "code",
   "execution_count": null,
   "id": "7c217dbd",
   "metadata": {},
   "outputs": [],
   "source": [
    "sub_df['yield'] = df['yield']\n",
    "sub_df['treatment'] = df.Treatment"
   ]
  },
  {
   "cell_type": "code",
   "execution_count": null,
   "id": "c6a18cfa",
   "metadata": {},
   "outputs": [],
   "source": [
    "sub_df.head()"
   ]
  },
  {
   "cell_type": "code",
   "execution_count": null,
   "id": "11504b57",
   "metadata": {},
   "outputs": [],
   "source": [
    "sub_df.shape"
   ]
  },
  {
   "cell_type": "markdown",
   "id": "31251017",
   "metadata": {},
   "source": [
    "### Train Test Split"
   ]
  },
  {
   "cell_type": "code",
   "execution_count": null,
   "id": "9d77fe46",
   "metadata": {},
   "outputs": [],
   "source": [
    "#df.rename(columns = {'Treatment':'treatment'},inplace = True)"
   ]
  },
  {
   "cell_type": "code",
   "execution_count": null,
   "id": "68a26146",
   "metadata": {},
   "outputs": [],
   "source": [
    "## Data Split\n",
    "X = sub_df[sub_df.columns[:-2]]\n",
    "y = sub_df[['treatment','yield']]\n",
    "X_train,X_test, y_train, y_test = train_test_split(X,y, test_size = 0.30)\n",
    "\n",
    "train_data = pd.concat([X_train, y_train], axis = 1)\n",
    "print(f\"Train Dataset: {train_data.shape[0]} row/records. F: {train_data[train_data.treatment=='HN'].shape[0]} and N: {train_data[train_data.treatment =='LN'].shape[0]}\\n\")\n",
    "\n",
    "test_data = pd.concat([X_test,y_test], axis = 1)\n",
    "print(f\"Train Dataset: {test_data.shape[0]} row/records. F: {test_data[test_data.treatment=='HN'].shape[0]} and N: {test_data[test_data.treatment =='LN'].shape[0]}\")\n",
    "\n"
   ]
  },
  {
   "cell_type": "code",
   "execution_count": null,
   "id": "6d5a85f2",
   "metadata": {},
   "outputs": [],
   "source": [
    "#features\n",
    "features = list(sub_df.columns)[:-2]"
   ]
  },
  {
   "cell_type": "markdown",
   "id": "905f429e",
   "metadata": {},
   "source": [
    "## Important Functions"
   ]
  },
  {
   "cell_type": "code",
   "execution_count": null,
   "id": "b13ce95d",
   "metadata": {},
   "outputs": [],
   "source": [
    "# evaluate a model with a given number of repeats\n",
    "def evaluate_model(X, y, repeats):\n",
    "    # prepare the cross-validation procedure\n",
    "    cv = RepeatedKFold(n_splits=10, n_repeats=repeats, random_state=1)\n",
    "    # create model\n",
    "    estimators= 100\n",
    "    model = RandomForestRegressor(n_estimators = estimators)\n",
    "    # evaluate model\n",
    "    scores = cross_val_score(model, X, y, scoring='r2', cv=cv, n_jobs=-1)\n",
    "    return scores"
   ]
  },
  {
   "cell_type": "markdown",
   "id": "45e2dfb3",
   "metadata": {},
   "source": [
    "## RF  - Both Treatment"
   ]
  },
  {
   "cell_type": "code",
   "execution_count": null,
   "id": "345213a3",
   "metadata": {},
   "outputs": [],
   "source": [
    "#check the head of training dataset\n",
    "train_data.head()"
   ]
  },
  {
   "cell_type": "code",
   "execution_count": null,
   "id": "97641ebb",
   "metadata": {},
   "outputs": [],
   "source": [
    "sub_df.head()"
   ]
  },
  {
   "cell_type": "code",
   "execution_count": null,
   "id": "20c6f5c3",
   "metadata": {},
   "outputs": [],
   "source": [
    "## Initialize Models with default parameters\n",
    "X = sub_df[list(sub_df.columns)[:-2]]\n",
    "y = sub_df['yield']\n",
    "results = list()\n",
    "for i in range(1,11):\n",
    "    scores = evaluate_model(X,y,i)\n",
    "    # summarize\n",
    "    print('>%d mean=%.4f se=%.3f' % (i, mean(scores), sem(scores)))\n",
    "    # store\n",
    "    results.append(scores)\n",
    "\n",
    "# cv = KFold(n_splits=10, random_state=1, shuffle=True)\n",
    "# # evaluate model\n",
    "# scores = cross_val_score(model, X, y, scoring='r2', cv=cv, n_jobs=-1)\n",
    "# scores"
   ]
  },
  {
   "cell_type": "code",
   "execution_count": null,
   "id": "c6430096",
   "metadata": {},
   "outputs": [],
   "source": [
    "plt.figure(figsize = (15,8))\n",
    "pyplot.boxplot(results, labels=[str(r) for r in range(1,11)], showmeans=True)\n",
    "plt.ylabel(\"r2\")\n",
    "plt.xlabel(\"K-fold Validation\")\n",
    "plt.title(\"RF - HN/LN Nitrogen Only\")\n",
    "pyplot.show()"
   ]
  },
  {
   "cell_type": "markdown",
   "id": "4d2d2a9a",
   "metadata": {},
   "source": [
    "## RF - Full Nitrogen\n"
   ]
  },
  {
   "cell_type": "code",
   "execution_count": null,
   "id": "0ff8a999",
   "metadata": {},
   "outputs": [],
   "source": [
    "X = sub_df[sub_df.treatment ==\"HN\"][list(sub_df.columns)[:-2]]\n",
    "y = sub_df[sub_df.treatment ==\"HN\"]['yield']\n",
    "results = list()\n",
    "for i in range(1,11):\n",
    "    scores = evaluate_model(X,y,i)\n",
    "    # summarize\n",
    "    print('>%d mean=%.4f se=%.3f' % (i, mean(scores), sem(scores)))\n",
    "    # store\n",
    "    results.append(scores)\n",
    "\n",
    "# cv = KFold(n_splits=10, random_sta"
   ]
  },
  {
   "cell_type": "code",
   "execution_count": null,
   "id": "557fa647",
   "metadata": {},
   "outputs": [],
   "source": [
    "plt.figure(figsize = (15,8))\n",
    "pyplot.boxplot(results, labels=[str(r) for r in range(1,11)], showmeans=True)\n",
    "plt.ylabel(\"r2\")\n",
    "plt.xlabel(\"K-fold Validation\")\n",
    "plt.title(\"RF - High Nitrogen Only\")\n",
    "pyplot.show()"
   ]
  },
  {
   "cell_type": "markdown",
   "id": "4532ac64",
   "metadata": {},
   "source": [
    "## RF - Nitrogen Deprived"
   ]
  },
  {
   "cell_type": "code",
   "execution_count": null,
   "id": "f13726d7",
   "metadata": {},
   "outputs": [],
   "source": [
    "X = sub_df[sub_df.treatment ==\"LN\"][list(sub_df.columns)[:-2]]\n",
    "y = sub_df[sub_df.treatment ==\"LN\"]['yield']\n",
    "results = list()\n",
    "for i in range(1,11):\n",
    "    scores = evaluate_model(X,y,i)\n",
    "    # summarize\n",
    "    print('>%d mean=%.4f se=%.3f' % (i, mean(scores), sem(scores)))\n",
    "    # store\n",
    "    results.append(scores)\n",
    "\n",
    "# cv = KFold(n_splits=10, random_sta"
   ]
  },
  {
   "cell_type": "code",
   "execution_count": null,
   "id": "8b96412c",
   "metadata": {},
   "outputs": [],
   "source": [
    "plt.figure(figsize = (15,8))\n",
    "pyplot.boxplot(results, labels=[str(r) for r in range(1,11)], showmeans=True)\n",
    "plt.ylabel(\"r2\")\n",
    "plt.xlabel(\"K-fold Validation\")\n",
    "plt.title(\"RF - Low Nitrogen Only\")\n",
    "pyplot.show()"
   ]
  }
 ],
 "metadata": {
  "kernelspec": {
   "display_name": "Python 3",
   "language": "python",
   "name": "python3"
  },
  "language_info": {
   "codemirror_mode": {
    "name": "ipython",
    "version": 3
   },
   "file_extension": ".py",
   "mimetype": "text/x-python",
   "name": "python",
   "nbconvert_exporter": "python",
   "pygments_lexer": "ipython3",
   "version": "3.8.8"
  }
 },
 "nbformat": 4,
 "nbformat_minor": 5
}
