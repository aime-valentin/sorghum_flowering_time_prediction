{
 "cells": [
  {
   "cell_type": "code",
   "execution_count": 1,
   "id": "e6d1226c",
   "metadata": {},
   "outputs": [],
   "source": [
    "import pandas as pd\n",
    "import numpy as np\n",
    "import seaborn as sns\n",
    "import matplotlib.pyplot as plt\n",
    "from sklearn.linear_model import LinearRegression\n",
    "from sklearn.ensemble import AdaBoostRegressor,BaggingRegressor,ExtraTreesRegressor,GradientBoostingRegressor,RandomForestRegressor,\\\n",
    "StackingRegressor,VotingRegressor,HistGradientBoostingRegressor\n",
    "from sklearn.model_selection import train_test_split\n",
    "import sys\n",
    "sys.path.append(\"../../scripts/\")\n",
    "sys.path.append(\"../../config/\")\n",
    "from utils.load_save import *\n",
    "from utils.utils import *\n",
    "from models.FloweringModel import FloweringModel\n",
    "from definitions import ROOT_DIR\n",
    "pd.set_option(\"display.max_rows\", None, \"display.max_columns\", None)"
   ]
  },
  {
   "cell_type": "code",
   "execution_count": 2,
   "id": "eb169092",
   "metadata": {},
   "outputs": [],
   "source": [
    "#import train and test data\n",
    "train = load_data('train_test','train', sorghum = True)\n",
    "test  = load_data('train_test', 'test', sorghum = True)"
   ]
  },
  {
   "cell_type": "code",
   "execution_count": 3,
   "id": "ba478f3d",
   "metadata": {},
   "outputs": [],
   "source": [
    "## Initialize Models with default parameters\n",
    "estimators = 100\n",
    "models = [(\"LinearModel\", LinearRegression()),(\"AdaBoost\", AdaBoostRegressor()),('Random Forest', RandomForestRegressor(estimators)),\n",
    "          ('Gradient Boosting', GradientBoostingRegressor()),('Bagging', BaggingRegressor()),\n",
    "          ('ExtraTrees', ExtraTreesRegressor(estimators)),\n",
    "           ('HistGradient Boosting', HistGradientBoostingRegressor())]\n",
    "\n",
    "stack_models  = models[0:4]\n",
    "stack = StackingRegressor(stack_models,stack_models[-3][1])\n",
    "voting = VotingRegressor(models)\n",
    "models.append(('Stacking Regressor',stack))\n",
    "#models.append(('Voting Regressor',voting))\n",
    "# models.append((('Stacking', StackingRegressor(models))))\n",
    "# models.append(('Voting', VotingRegressor(models)))"
   ]
  },
  {
   "cell_type": "code",
   "execution_count": 4,
   "id": "b2be00d2",
   "metadata": {},
   "outputs": [
    {
     "name": "stdout",
     "output_type": "stream",
     "text": [
      "Done: LinearRegression()\n",
      "Done: AdaBoostRegressor()\n",
      "Done: RandomForestRegressor()\n",
      "Done: GradientBoostingRegressor()\n",
      "Done: BaggingRegressor()\n",
      "Done: ExtraTreesRegressor()\n",
      "Done: HistGradientBoostingRegressor()\n",
      "Done: StackingRegressor(estimators=[('LinearModel', LinearRegression()),\n",
      "                              ('AdaBoost', AdaBoostRegressor()),\n",
      "                              ('Random Forest', RandomForestRegressor()),\n",
      "                              ('Gradient Boosting',\n",
      "                               GradientBoostingRegressor())],\n",
      "                  final_estimator=AdaBoostRegressor())\n"
     ]
    }
   ],
   "source": [
    "#run models\n",
    "results_test = []\n",
    "results_train= []\n",
    "for model in models:\n",
    "    fm = FloweringModel(model, train,test)\n",
    "    fm.fit()\n",
    "    results = fm.evaluate()\n",
    "    results_test.append(results[0])\n",
    "    results_train.append(results[1])\n",
    "    print(f\"Done: {model[1]}\")\n",
    "df_results_test = pd.concat(results_test)\n",
    "df_results_train= pd.concat(results_train)"
   ]
  },
  {
   "cell_type": "code",
   "execution_count": 5,
   "id": "56d817a0",
   "metadata": {},
   "outputs": [
    {
     "data": {
      "text/plain": [
       "(                   Model       R^2       MAE      RMSE\n",
       " 0            LinearModel  0.270029  4.684165  6.093586\n",
       " 0               AdaBoost  0.211718  5.008313  6.332292\n",
       " 0          Random Forest  0.235580  4.918599  6.235710\n",
       " 0      Gradient Boosting  0.185854  4.991334  6.435336\n",
       " 0                Bagging  0.201142  5.001911  6.374626\n",
       " 0             ExtraTrees  0.215655  5.042484  6.316457\n",
       " 0  HistGradient Boosting  0.196168  5.019212  6.394441\n",
       " 0     Stacking Regressor  0.251189  4.867151  6.171718,\n",
       "                    Model       R^2       MAE      RMSE\n",
       " 0            LinearModel  0.209644  4.632941  5.892568\n",
       " 0               AdaBoost  0.396147  4.357685  5.150609\n",
       " 0          Random Forest  0.882367  1.790467  2.273305\n",
       " 0      Gradient Boosting  0.736888  2.707184  3.399877\n",
       " 0                Bagging  0.830970  2.106593  2.725057\n",
       " 0             ExtraTrees  1.000000  0.000110  0.001482\n",
       " 0  HistGradient Boosting  0.876614  1.776581  2.328230\n",
       " 0     Stacking Regressor  0.304468  4.409239  5.527791)"
      ]
     },
     "execution_count": 5,
     "metadata": {},
     "output_type": "execute_result"
    }
   ],
   "source": [
    "df_results_test, df_results_train"
   ]
  },
  {
   "cell_type": "code",
   "execution_count": 6,
   "id": "b6254eea",
   "metadata": {},
   "outputs": [
    {
     "name": "stderr",
     "output_type": "stream",
     "text": [
      "/Users/anishimwe2/Desktop/work/inbre/sorghum_flowering_time_prediction/notebooks/pca_and_train_test_split/../../scripts/utils/utils.py:38: FutureWarning: In future versions `DataFrame.to_latex` is expected to utilise the base implementation of `Styler.to_latex` for formatting and rendering. The arguments signature may therefore change. It is recommended instead to use `DataFrame.style.to_latex` which also contains additional functionality.\n",
      "  tab1 = df.to_latex(**kwargs)\n"
     ]
    }
   ],
   "source": [
    "save_table(df_results_test,f\"{ROOT_DIR}/figures/initial_sorghum_models_test_results.tex\")"
   ]
  },
  {
   "cell_type": "code",
   "execution_count": null,
   "id": "5b8c6f0f",
   "metadata": {},
   "outputs": [],
   "source": []
  }
 ],
 "metadata": {
  "kernelspec": {
   "display_name": "iea-kernel",
   "language": "python",
   "name": "iea-kernel"
  },
  "language_info": {
   "codemirror_mode": {
    "name": "ipython",
    "version": 3
   },
   "file_extension": ".py",
   "mimetype": "text/x-python",
   "name": "python",
   "nbconvert_exporter": "python",
   "pygments_lexer": "ipython3",
   "version": "3.10.0"
  }
 },
 "nbformat": 4,
 "nbformat_minor": 5
}
